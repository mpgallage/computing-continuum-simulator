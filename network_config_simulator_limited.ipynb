{
 "cells": [
  {
   "cell_type": "code",
   "execution_count": 2,
   "id": "initial_id",
   "metadata": {
    "collapsed": true,
    "ExecuteTime": {
     "end_time": "2023-12-21T09:31:22.177196Z",
     "start_time": "2023-12-21T09:31:22.085850Z"
    }
   },
   "outputs": [],
   "source": [
    "import numpy as np\n",
    "import pymongo"
   ]
  },
  {
   "cell_type": "code",
   "execution_count": 7,
   "outputs": [],
   "source": [
    "# Define the range for each variable\n",
    "min_iot_devices = 10\n",
    "max_iot_devices = 1000\n",
    "\n",
    "# Cloud only\n",
    "# min_edge_devices = 0\n",
    "# max_edge_devices = 0\n",
    "# Edge only\n",
    "min_edge_devices = 20\n",
    "max_edge_devices = 50\n",
    "\n",
    "min_fog_devices = 0\n",
    "max_fog_devices = 0\n",
    "\n",
    "# Cloud only\n",
    "# min_cloud_devices = 1\n",
    "# max_cloud_devices = 10\n",
    "# Edge only\n",
    "min_cloud_devices = 0\n",
    "max_cloud_devices = 0\n",
    "\n",
    "min_idle_power = 10\n",
    "max_idle_power = 50\n",
    "\n",
    "min_max_power = 100\n",
    "max_max_power = 300\n",
    "\n",
    "min_max_instructions = 1000000\n",
    "max_max_instructions = 5000000\n",
    "\n",
    "min_net_delay_edge = 10\n",
    "max_net_delay_edge = 300\n",
    "\n",
    "min_net_delay_fog = 200\n",
    "max_net_delay_fog = 1000\n",
    "\n",
    "min_net_delay_cloud = 500\n",
    "max_net_delay_cloud = 5000\n",
    "\n",
    "# Define the range for the number of guest machines per host machine\n",
    "min_guest_per_host = 1\n",
    "max_guest_per_host = 5 \n",
    "\n",
    "# Define the number of configurations (n)\n",
    "n = 100"
   ],
   "metadata": {
    "collapsed": false,
    "ExecuteTime": {
     "end_time": "2023-12-21T09:35:06.073675Z",
     "start_time": "2023-12-21T09:35:06.070496Z"
    }
   },
   "id": "e825ccf5fa5e6e6f"
  },
  {
   "cell_type": "code",
   "execution_count": 8,
   "outputs": [],
   "source": [
    "client_url = \"mongodb://localhost:27017/\"\n",
    "db_name = \"simulations\"\n",
    "# collection_name = \"networks_cloud_only\"\n",
    "collection_name = \"networks_edge_only\""
   ],
   "metadata": {
    "collapsed": false,
    "ExecuteTime": {
     "end_time": "2023-12-21T09:35:06.878963Z",
     "start_time": "2023-12-21T09:35:06.874153Z"
    }
   },
   "id": "af6c7aeb7a1a8dd0"
  },
  {
   "cell_type": "code",
   "execution_count": 9,
   "outputs": [],
   "source": [
    "# Initialize a dictionary to store the generated configurations\n",
    "configurations = []\n",
    "\n",
    "# Connect to MongoDB\n",
    "client = pymongo.MongoClient(client_url)\n",
    "db = client[db_name]\n",
    "collection = db[collection_name] \n",
    "\n",
    "# Generate n random configurations\n",
    "for i in range(n):\n",
    "    config = {\n",
    "        '_id': f'config-{i + 1}',  # Unique configuration ID\n",
    "        'iot_devices': np.random.randint(min_iot_devices, max_iot_devices + 1),\n",
    "        'edge_devices': np.random.randint(min_edge_devices, max_edge_devices + 1),\n",
    "        'fog_devices': np.random.randint(min_fog_devices, max_fog_devices + 1),\n",
    "        'cloud_devices': np.random.randint(min_cloud_devices, max_cloud_devices + 1),\n",
    "    }\n",
    "    \n",
    "    # Generate configurations for each layer based on the relative number of machines\n",
    "    total_machines = (\n",
    "        config['iot_devices'] + config['edge_devices'] +\n",
    "        config['fog_devices'] + config['cloud_devices']\n",
    "    )\n",
    "    \n",
    "    # Define the number of host machines for each layer\n",
    "    num_host_edge = int(config['edge_devices'])\n",
    "    num_host_fog = int(config['fog_devices'])\n",
    "    num_host_cloud = int(config['cloud_devices'])\n",
    "    \n",
    "    # Generate configurations for guest machines within each host machine\n",
    "    for layer, num_hosts in [('edge', num_host_edge), ('fog', num_host_fog), ('cloud', num_host_cloud)]:\n",
    "        host_machines = []\n",
    "        for _ in range(num_hosts):\n",
    "            num_guest = np.random.randint(min_guest_per_host, max_guest_per_host + 1)\n",
    "            guest_machines = []\n",
    "            for _ in range(num_guest):\n",
    "                # Generate separate values for net_delay_request and net_delay_response based on the layer\n",
    "                net_delay_request = np.random.uniform(min_net_delay_edge, max_net_delay_edge) if layer == 'edge' else np.random.uniform(min_net_delay_fog, max_net_delay_fog) if layer == 'fog' else np.random.uniform(min_net_delay_cloud, max_net_delay_cloud)\n",
    "                net_delay_response = np.random.uniform(min_net_delay_edge, max_net_delay_edge) if layer == 'edge' else np.random.uniform(min_net_delay_fog, max_net_delay_fog) if layer == 'fog' else np.random.uniform(min_net_delay_cloud, max_net_delay_cloud)\n",
    "\n",
    "                guest_config = {\n",
    "                    'idle_cpu_utilization': np.random.uniform(min_idle_power, max_idle_power),\n",
    "                    'max_cpu_utilization': np.random.uniform(min_max_power, max_max_power),\n",
    "                    'max_instructions_per_second': np.random.randint(min_max_instructions, max_max_instructions + 1),\n",
    "                    'net_delay_request': net_delay_request,\n",
    "                    'net_delay_response': net_delay_response,\n",
    "                    'layer': layer\n",
    "                }\n",
    "                guest_machines.append(guest_config)\n",
    "            host_machines.append({'guest_machines': guest_machines})\n",
    "        config[layer] = host_machines\n",
    "\n",
    "    # Insert the configuration into MongoDB\n",
    "    collection.insert_one(config)\n",
    "    configurations.append(config)\n",
    "\n",
    "# Close the MongoDB connection\n",
    "client.close()"
   ],
   "metadata": {
    "collapsed": false,
    "ExecuteTime": {
     "end_time": "2023-12-21T09:35:09.452798Z",
     "start_time": "2023-12-21T09:35:09.250674Z"
    }
   },
   "id": "acd589ae539f56d8"
  },
  {
   "cell_type": "code",
   "execution_count": 10,
   "outputs": [],
   "source": [
    "from networks import NetworkConfigurationManager\n",
    "\n",
    "network_config_manager = NetworkConfigurationManager(client_url, db_name, collection_name)"
   ],
   "metadata": {
    "collapsed": false,
    "ExecuteTime": {
     "end_time": "2023-12-21T09:35:11.092895Z",
     "start_time": "2023-12-21T09:35:11.087712Z"
    }
   },
   "id": "fd3767e265964563"
  },
  {
   "cell_type": "code",
   "execution_count": null,
   "outputs": [],
   "source": [],
   "metadata": {
    "collapsed": false
   },
   "id": "84cf2fc38cad609"
  }
 ],
 "metadata": {
  "kernelspec": {
   "display_name": "Python 3",
   "language": "python",
   "name": "python3"
  },
  "language_info": {
   "codemirror_mode": {
    "name": "ipython",
    "version": 2
   },
   "file_extension": ".py",
   "mimetype": "text/x-python",
   "name": "python",
   "nbconvert_exporter": "python",
   "pygments_lexer": "ipython2",
   "version": "2.7.6"
  }
 },
 "nbformat": 4,
 "nbformat_minor": 5
}
