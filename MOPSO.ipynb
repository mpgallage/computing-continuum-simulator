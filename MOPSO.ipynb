{
 "cells": [
  {
   "cell_type": "markdown",
   "source": [
    "##### 1. Non-dominated Sorting Genetic Algorithm (NSGA-II)\n",
    "### 2. Multi-Objective Particle Swarm Optimization (MOPSO)\n",
    "##### 3. Multi-Objective Differential Evolution (MODE)\n",
    "##### 4. Multi-Objective Genetic Programming (MOGP)"
   ],
   "metadata": {
    "collapsed": false
   },
   "id": "659ff977dd84d5fb"
  },
  {
   "cell_type": "code",
   "execution_count": null,
   "id": "initial_id",
   "metadata": {
    "collapsed": true
   },
   "outputs": [],
   "source": [
    "import random\n",
    "\n",
    "import numpy as np\n",
    "from deap import base, creator, tools, algorithms\n",
    "\n",
    "# Define the problem as a multi-objective optimization problem\n",
    "creator.create(\"FitnessMulti\", base.Fitness, weights=(1.0, -1.0))\n",
    "creator.create(\"Particle\", list, fitness=creator.FitnessMulti)\n",
    "\n",
    "# Define the problem-specific parameters\n",
    "n = 5  # Number of physical machines\n",
    "m = 10  # Number of virtual machines\n",
    "alpha = 0.5  # Weight for latency objective (0 <= alpha <= 1)\n",
    "beta = 0.5  # Weight for energy consumption objective (0 <= beta <= 1)\n",
    "num_generations = 50  # Number of generations in the optimization\n",
    "num_particles = 100  # Number of particles in the swarm\n",
    "\n",
    "# Define the bounds for decision variables (placement of services)\n",
    "bounds = [(0, n - 1)] * m\n",
    "\n",
    "# Define parameters. This will be loaded from the database\n",
    "R = np.zeros(shape = (n, m))\n",
    "I = np.zeros(shape = (n, m))\n",
    "X = np.zeros(shape = (n, m))\n",
    "S = np.zeros(shape = (n, m))\n",
    "E = np.zeros(shape = (n, m))\n",
    "\n",
    "# Define the objective functions\n",
    "def latency(individual):\n",
    "    return sum(R[i][j] + I[i][j] / X[i][j] + S[i][j] for i in range(n) for j in range(m)),  # Minimize\n",
    "\n",
    "def energy_consumption(individual):\n",
    "    return sum(E[i][j] for i in range(n) for j in range(m)),  # Minimize\n",
    "\n",
    "toolbox = base.Toolbox()\n",
    "toolbox.register(\"attr_int\", random.randint, 0, n - 1)\n",
    "toolbox.register(\"individual\", tools.initCycle, creator.Particle, (toolbox.attr_int,), n=m)\n",
    "toolbox.register(\"population\", tools.initRepeat, list, toolbox.individual)\n",
    "\n",
    "toolbox.register(\"evaluate\", lambda ind: (latency(ind), energy_consumption(ind)))\n",
    "toolbox.register(\"mate\", tools.cxBlend, alpha=0.5)\n",
    "toolbox.register(\"mutate\", tools.mutPolynomialBounded, eta=20, low=0, up=n - 1, indpb=0.2)\n",
    "toolbox.register(\"select\", tools.selNSGA2)\n",
    "\n",
    "if __name__ == \"__main__\":\n",
    "    # Create the initial population\n",
    "    population = toolbox.population(n=num_particles)\n",
    "\n",
    "    # Run the optimization using MOPSO\n",
    "    algorithms.varAnd(population, toolbox, cxpb=0.7, mutpb=0.2)\n",
    "    fits = toolbox.map(toolbox.evaluate, population)\n",
    "    for fit, ind in zip(fits, population):\n",
    "        ind.fitness.values = fit\n",
    "\n",
    "    # Create a Pareto front object to track non-dominated solutions\n",
    "    pareto_front = tools.sortNondominated(population, len(population), first_front_only=True)[0]\n",
    "\n",
    "    # Print Pareto front solutions\n",
    "    print(\"Pareto Front Solutions:\")\n",
    "    for ind in pareto_front:\n",
    "        print(\"Latency:\", ind.fitness.values[0])\n",
    "        print(\"Energy Consumption:\", ind.fitness.values[1])\n",
    "        print(\"Placement:\", ind)\n"
   ]
  }
 ],
 "metadata": {
  "kernelspec": {
   "display_name": "Python 3",
   "language": "python",
   "name": "python3"
  },
  "language_info": {
   "codemirror_mode": {
    "name": "ipython",
    "version": 2
   },
   "file_extension": ".py",
   "mimetype": "text/x-python",
   "name": "python",
   "nbconvert_exporter": "python",
   "pygments_lexer": "ipython2",
   "version": "2.7.6"
  }
 },
 "nbformat": 4,
 "nbformat_minor": 5
}
